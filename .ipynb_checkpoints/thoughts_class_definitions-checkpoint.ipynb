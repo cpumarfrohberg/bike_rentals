{
 "cells": [
  {
   "cell_type": "code",
   "execution_count": 1,
   "id": "42425a00",
   "metadata": {},
   "outputs": [],
   "source": [
    "class Person():\n",
    "    pass"
   ]
  },
  {
   "cell_type": "code",
   "execution_count": 2,
   "id": "39d1af7b",
   "metadata": {},
   "outputs": [
    {
     "data": {
      "text/plain": [
       "['__class__',\n",
       " '__delattr__',\n",
       " '__dict__',\n",
       " '__dir__',\n",
       " '__doc__',\n",
       " '__eq__',\n",
       " '__format__',\n",
       " '__ge__',\n",
       " '__getattribute__',\n",
       " '__gt__',\n",
       " '__hash__',\n",
       " '__init__',\n",
       " '__init_subclass__',\n",
       " '__le__',\n",
       " '__lt__',\n",
       " '__module__',\n",
       " '__ne__',\n",
       " '__new__',\n",
       " '__reduce__',\n",
       " '__reduce_ex__',\n",
       " '__repr__',\n",
       " '__setattr__',\n",
       " '__sizeof__',\n",
       " '__str__',\n",
       " '__subclasshook__',\n",
       " '__weakref__']"
      ]
     },
     "execution_count": 2,
     "metadata": {},
     "output_type": "execute_result"
    }
   ],
   "source": [
    "dir(Person)"
   ]
  },
  {
   "cell_type": "code",
   "execution_count": 3,
   "id": "07867528",
   "metadata": {},
   "outputs": [
    {
     "data": {
      "text/plain": [
       "(__main__.Person, object)"
      ]
     },
     "execution_count": 3,
     "metadata": {},
     "output_type": "execute_result"
    }
   ],
   "source": [
    "Person.__mro__"
   ]
  },
  {
   "cell_type": "code",
   "execution_count": 4,
   "id": "17167d3b",
   "metadata": {},
   "outputs": [],
   "source": [
    "carlos = Person()"
   ]
  },
  {
   "cell_type": "code",
   "execution_count": 5,
   "id": "535b20dd",
   "metadata": {},
   "outputs": [
    {
     "name": "stdout",
     "output_type": "stream",
     "text": [
      "<__main__.Person object at 0x7fe8bdff4160>\n"
     ]
    }
   ],
   "source": [
    "print(carlos)"
   ]
  },
  {
   "cell_type": "code",
   "execution_count": null,
   "id": "373aeacd",
   "metadata": {},
   "outputs": [],
   "source": []
  },
  {
   "cell_type": "code",
   "execution_count": 6,
   "id": "06788c87",
   "metadata": {},
   "outputs": [
    {
     "data": {
      "text/plain": [
       "['__class__',\n",
       " '__delattr__',\n",
       " '__dict__',\n",
       " '__dir__',\n",
       " '__doc__',\n",
       " '__eq__',\n",
       " '__format__',\n",
       " '__ge__',\n",
       " '__getattribute__',\n",
       " '__gt__',\n",
       " '__hash__',\n",
       " '__init__',\n",
       " '__init_subclass__',\n",
       " '__le__',\n",
       " '__lt__',\n",
       " '__module__',\n",
       " '__ne__',\n",
       " '__new__',\n",
       " '__reduce__',\n",
       " '__reduce_ex__',\n",
       " '__repr__',\n",
       " '__setattr__',\n",
       " '__sizeof__',\n",
       " '__str__',\n",
       " '__subclasshook__',\n",
       " '__weakref__']"
      ]
     },
     "execution_count": 6,
     "metadata": {},
     "output_type": "execute_result"
    }
   ],
   "source": [
    "dir(carlos)"
   ]
  },
  {
   "cell_type": "code",
   "execution_count": 7,
   "id": "f58f1ab8",
   "metadata": {},
   "outputs": [],
   "source": [
    "carlos.bike = 'Standert'\n",
    "carlos.age = 46\n",
    "carlos.cool = True"
   ]
  },
  {
   "cell_type": "code",
   "execution_count": 8,
   "id": "54fe7401",
   "metadata": {},
   "outputs": [],
   "source": [
    "class Person(object): # equivalent to class Person:\n",
    "    def __init__(self, any_bike, any_age, any_cool):\n",
    "        self.bike = any_bike\n",
    "        self.age = any_age\n",
    "        self.cool = any_cool\n",
    "        print('The __init__ has been called now!')\n",
    "    "
   ]
  },
  {
   "cell_type": "code",
   "execution_count": 9,
   "id": "4779c6ca",
   "metadata": {},
   "outputs": [
    {
     "name": "stdout",
     "output_type": "stream",
     "text": [
      "The __init__ has been called now!\n"
     ]
    }
   ],
   "source": [
    "jens = Person('Bianchi', 38, True)"
   ]
  },
  {
   "cell_type": "code",
   "execution_count": 10,
   "id": "94330058",
   "metadata": {},
   "outputs": [
    {
     "data": {
      "text/plain": [
       "['__class__',\n",
       " '__delattr__',\n",
       " '__dict__',\n",
       " '__dir__',\n",
       " '__doc__',\n",
       " '__eq__',\n",
       " '__format__',\n",
       " '__ge__',\n",
       " '__getattribute__',\n",
       " '__gt__',\n",
       " '__hash__',\n",
       " '__init__',\n",
       " '__init_subclass__',\n",
       " '__le__',\n",
       " '__lt__',\n",
       " '__module__',\n",
       " '__ne__',\n",
       " '__new__',\n",
       " '__reduce__',\n",
       " '__reduce_ex__',\n",
       " '__repr__',\n",
       " '__setattr__',\n",
       " '__sizeof__',\n",
       " '__str__',\n",
       " '__subclasshook__',\n",
       " '__weakref__',\n",
       " 'age',\n",
       " 'bike',\n",
       " 'cool']"
      ]
     },
     "execution_count": 10,
     "metadata": {},
     "output_type": "execute_result"
    }
   ],
   "source": [
    "dir(jens)"
   ]
  },
  {
   "cell_type": "code",
   "execution_count": 11,
   "id": "0f2fcdf1",
   "metadata": {},
   "outputs": [
    {
     "data": {
      "text/plain": [
       "'Bianchi'"
      ]
     },
     "execution_count": 11,
     "metadata": {},
     "output_type": "execute_result"
    }
   ],
   "source": [
    "jens.bike"
   ]
  },
  {
   "cell_type": "code",
   "execution_count": 12,
   "id": "4721068c",
   "metadata": {},
   "outputs": [
    {
     "data": {
      "text/plain": [
       "'BMX'"
      ]
     },
     "execution_count": 12,
     "metadata": {},
     "output_type": "execute_result"
    }
   ],
   "source": [
    "jens.bike = 'BMX'\n",
    "jens.bike"
   ]
  },
  {
   "cell_type": "code",
   "execution_count": 15,
   "id": "0b9862b3",
   "metadata": {},
   "outputs": [],
   "source": [
    "class Person(object): # equivalent to class Person:\n",
    "    def __init__(self, any_bike, any_age, any_cool):\n",
    "        self.bike = any_bike\n",
    "        self.age = any_age\n",
    "        self.cool = any_cool\n",
    "        #print('The __init__ has been called now!')\n",
    "        \n",
    "    def __repr__(self):\n",
    "        return f'{self.bike, self.age, self.cool}'"
   ]
  },
  {
   "cell_type": "code",
   "execution_count": 16,
   "id": "bfe6d4b9",
   "metadata": {},
   "outputs": [],
   "source": [
    "arjun = Person('holland', 'very young!', True)"
   ]
  },
  {
   "cell_type": "code",
   "execution_count": 18,
   "id": "b9b4e53d",
   "metadata": {},
   "outputs": [
    {
     "name": "stdout",
     "output_type": "stream",
     "text": [
      "('holland', 'very young!', True)\n"
     ]
    }
   ],
   "source": [
    "print(arjun)"
   ]
  },
  {
   "cell_type": "code",
   "execution_count": null,
   "id": "21613e18",
   "metadata": {},
   "outputs": [],
   "source": []
  }
 ],
 "metadata": {
  "kernelspec": {
   "display_name": "Python 3 (ipykernel)",
   "language": "python",
   "name": "python3"
  },
  "language_info": {
   "codemirror_mode": {
    "name": "ipython",
    "version": 3
   },
   "file_extension": ".py",
   "mimetype": "text/x-python",
   "name": "python",
   "nbconvert_exporter": "python",
   "pygments_lexer": "ipython3",
   "version": "3.8.15"
  }
 },
 "nbformat": 4,
 "nbformat_minor": 5
}
